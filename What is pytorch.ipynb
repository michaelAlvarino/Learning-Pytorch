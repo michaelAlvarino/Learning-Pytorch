{
 "cells": [
  {
   "cell_type": "code",
   "execution_count": 1,
   "metadata": {},
   "outputs": [],
   "source": [
    "import torch"
   ]
  },
  {
   "cell_type": "code",
   "execution_count": 8,
   "metadata": {},
   "outputs": [
    {
     "data": {
      "text/plain": [
       "\n",
       " 0  0  0\n",
       " 0  0  0\n",
       " 0  0  0\n",
       " 0  0  0\n",
       " 0  0  0\n",
       "[torch.FloatTensor of size 5x3]"
      ]
     },
     "execution_count": 8,
     "metadata": {},
     "output_type": "execute_result"
    }
   ],
   "source": [
    "# initializes a tensor \n",
    "# torch.Tensor is an alias for torch.FloatTensor\n",
    "x = torch.Tensor(5, 3)\n",
    "x1 = torch.FloatTensor(5, 3).zero_() # zeros out the tensor"
   ]
  },
  {
   "cell_type": "code",
   "execution_count": 10,
   "metadata": {},
   "outputs": [
    {
     "data": {
      "text/plain": [
       "\n",
       " 0.6243  0.3339  0.5386\n",
       " 0.3106  0.8228  0.3410\n",
       " 0.7660  0.0418  0.7742\n",
       " 0.1260  0.5373  0.1908\n",
       " 0.6657  0.0082  0.0875\n",
       "[torch.FloatTensor of size 5x3]"
      ]
     },
     "execution_count": 10,
     "metadata": {},
     "output_type": "execute_result"
    }
   ],
   "source": [
    "# Returns a Tensor filled with random numbers from a uniform\n",
    "# distribution on the interval [0,1)\n",
    "randomly_initialized = torch.rand(5, 3)\n",
    "randomly_initialized"
   ]
  },
  {
   "cell_type": "code",
   "execution_count": 13,
   "metadata": {},
   "outputs": [
    {
     "name": "stdout",
     "output_type": "stream",
     "text": [
      "<built-in method size of torch.FloatTensor object at 0x7f92696cae88>\n"
     ]
    },
    {
     "data": {
      "text/plain": [
       "torch.Size([5, 3])"
      ]
     },
     "execution_count": 13,
     "metadata": {},
     "output_type": "execute_result"
    }
   ],
   "source": [
    "print(randomly_initialized.size)\n",
    "randomly_initialized.size()"
   ]
  },
  {
   "cell_type": "code",
   "execution_count": 16,
   "metadata": {},
   "outputs": [
    {
     "name": "stdout",
     "output_type": "stream",
     "text": [
      "\n",
      "-2.8939e+10  4.5764e-41  3.2704e-37\n",
      " 0.0000e+00  0.0000e+00  0.0000e+00\n",
      " 0.0000e+00  0.0000e+00  0.0000e+00\n",
      " 0.0000e+00  0.0000e+00  0.0000e+00\n",
      " 0.0000e+00  0.0000e+00  1.1351e-43\n",
      "[torch.FloatTensor of size 5x3]\n",
      "\n",
      "\n",
      "-2.8939e+10  4.5764e-41  3.2704e-37\n",
      " 0.0000e+00  0.0000e+00  0.0000e+00\n",
      " 0.0000e+00  0.0000e+00  0.0000e+00\n",
      " 0.0000e+00  0.0000e+00  0.0000e+00\n",
      " 0.0000e+00  0.0000e+00  1.1351e-43\n",
      "[torch.FloatTensor of size 5x3]\n",
      "\n",
      "\n",
      " 1  1  1\n",
      " 1  1  1\n",
      " 1  1  1\n",
      " 1  1  1\n",
      " 1  1  1\n",
      "[torch.ByteTensor of size 5x3]\n",
      "\n"
     ]
    }
   ],
   "source": [
    "s1 = x + x1\n",
    "s2 = torch.add(x, x1)\n",
    "print(s1)\n",
    "print(s2)\n",
    "print(s1 == s2)"
   ]
  },
  {
   "cell_type": "code",
   "execution_count": 18,
   "metadata": {},
   "outputs": [
    {
     "data": {
      "text/plain": [
       "\n",
       "1.00000e-41 *\n",
       "  4.5764\n",
       "  0.0000\n",
       "  0.0000\n",
       "  0.0000\n",
       "  0.0000\n",
       "[torch.FloatTensor of size 5]"
      ]
     },
     "execution_count": 18,
     "metadata": {},
     "output_type": "execute_result"
    }
   ],
   "source": [
    "x[:, 1]"
   ]
  },
  {
   "cell_type": "code",
   "execution_count": 20,
   "metadata": {},
   "outputs": [
    {
     "name": "stdout",
     "output_type": "stream",
     "text": [
      "\n",
      " 1\n",
      " 1\n",
      " 1\n",
      " 1\n",
      " 1\n",
      "[torch.FloatTensor of size 5]\n",
      "\n",
      "\n",
      " 1  1  1\n",
      " 1  1  1\n",
      " 1  1  1\n",
      " 1  1  1\n",
      " 1  1  1\n",
      "[torch.FloatTensor of size 5x3]\n",
      "\n"
     ]
    }
   ],
   "source": [
    "# ones\n",
    "print(torch.ones(5))\n",
    "print(torch.ones((5, 3)))"
   ]
  },
  {
   "cell_type": "code",
   "execution_count": 89,
   "metadata": {},
   "outputs": [
    {
     "data": {
      "text/plain": [
       "\n",
       " 0  4  3\n",
       " 4  6  6\n",
       " 3  6  9\n",
       " 6  4  6\n",
       " 6  8  1\n",
       "[torch.LongTensor of size 5x3]"
      ]
     },
     "execution_count": 89,
     "metadata": {},
     "output_type": "execute_result"
    }
   ],
   "source": [
    "import numpy as np\n",
    "x = torch.from_numpy(np.random.randint(10, size=(5, 3)))\n",
    "x"
   ]
  },
  {
   "cell_type": "code",
   "execution_count": 120,
   "metadata": {},
   "outputs": [
    {
     "name": "stdout",
     "output_type": "stream",
     "text": [
      "Variable containing:\n",
      " 10.7964\n",
      "[torch.DoubleTensor of size 1]\n",
      "\n",
      "y: Variable containing:\n",
      " 10.6998  10.6930  10.9955  10.6993  10.9710\n",
      " 10.8063  10.8432  10.9003  10.7389  10.9730\n",
      " 10.7058  10.8796  10.8139  10.7093  10.9545\n",
      " 10.7354  10.8033  10.8893  10.9399  10.6990\n",
      " 10.9281  10.8650  10.6930  10.7072  10.9078\n",
      " 10.9581  10.7159  10.7863  10.7209  10.6959\n",
      " 10.6955  10.6948  10.6927  10.8093  10.9477\n",
      " 10.7620  10.9194  10.9341  10.6965  10.7187\n",
      " 10.7015  10.6985  10.7115  10.7997  10.8672\n",
      " 10.7237  10.7414  10.6932  10.7269  10.8588\n",
      "[torch.DoubleTensor of size 10x5]\n",
      "\n",
      "y.grad None\n",
      "\n",
      "x.grad Variable containing:\n",
      "1.00000e-02 *\n",
      "  0.3164  0.1077  1.9822 -0.3585  1.8829\n",
      "  1.1503  1.3314  1.5878 -1.1252  1.8911\n",
      "  0.4157 -3.9136  1.1887 -0.5916  1.8156\n",
      "  0.7151  1.1345  1.5399 -6.0528 -0.3502\n",
      "  1.7058  1.4320  0.1045  0.4351  1.6198\n",
      " -7.0863  0.5393  1.0433  0.5900 -0.2531\n",
      " -0.2380 -0.2092 -0.0891 -2.3443  1.7875\n",
      " -1.5106 -5.1781 -5.7825 -0.2732  0.5678\n",
      "  0.3470  0.2896  0.4896  1.1158  1.4418\n",
      "  0.6160  0.7605  0.1209  0.6453  1.4038\n",
      "[torch.DoubleTensor of size 10x5]\n",
      "\n"
     ]
    }
   ],
   "source": [
    "# Automatic differentiation\n",
    "from torch.autograd import Variable\n",
    "x = Variable(torch.from_numpy(np.random.random((10, 5))), requires_grad=True)\n",
    "y = x ** x + 10\n",
    "res = torch.mean(y)\n",
    "print(res)\n",
    "res.backward()\n",
    "print(\"y:\", y)\n",
    "print(\"y.grad\", y.grad)\n",
    "print()\n",
    "print(\"x.grad\", x.grad)"
   ]
  }
 ],
 "metadata": {
  "kernelspec": {
   "display_name": "Python 3",
   "language": "python",
   "name": "python3"
  },
  "language_info": {
   "codemirror_mode": {
    "name": "ipython",
    "version": 3
   },
   "file_extension": ".py",
   "mimetype": "text/x-python",
   "name": "python",
   "nbconvert_exporter": "python",
   "pygments_lexer": "ipython3",
   "version": "3.6.3"
  }
 },
 "nbformat": 4,
 "nbformat_minor": 2
}
