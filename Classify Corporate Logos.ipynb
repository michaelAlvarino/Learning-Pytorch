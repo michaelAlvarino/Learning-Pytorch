{
 "cells": [
  {
   "cell_type": "code",
   "execution_count": null,
   "metadata": {},
   "outputs": [],
   "source": [
    "# torch-related imports\n",
    "import torch\n",
    "from torch import nn, Tensor\n",
    "from torch.autograd import Variable\n",
    "from torch.nn import functional as F\n",
    "from torch.autograd import Variable\n",
    "from torch.utils.data import DataLoader\n",
    "from torch.utils.data.dataloader import DataLoaderIter\n",
    "from torchvision.transforms import Compose, RandomRotation, RandomResizedCrop, ToTensor\n",
    "\n",
    "# helper functions\n",
    "from os.path import join\n",
    "\n",
    "# full libraries\n",
    "import matplotlib.pyplot as plt\n",
    "\n",
    "# my classes\n",
    "from FlickrDataset import FlickrDataset\n",
    "\n",
    "# set random seeds\n",
    "seed = 22\n",
    "_ = torch.random.manual_seed(seed)"
   ]
  },
  {
   "cell_type": "code",
   "execution_count": null,
   "metadata": {},
   "outputs": [],
   "source": [
    "flickrData = FlickrDataset(join(\"data\", \"flickr_logos_27_dataset\", \"flickr_logos_27_dataset_training_set_annotation.txt\"),\n",
    "                          join(\"data\", \"flickr_logos_27_dataset\", \"flickr_logos_27_dataset_images\"),\n",
    "                          transform=Compose([\n",
    "                              RandomRotation(10),\n",
    "                              RandomResizedCrop(256),\n",
    "                              ToTensor()\n",
    "                          ]))"
   ]
  },
  {
   "cell_type": "code",
   "execution_count": null,
   "metadata": {},
   "outputs": [],
   "source": [
    "batch_size = 16\n",
    "flickrLoader = DataLoader(flickrData,\n",
    "                          batch_size=batch_size,\n",
    "                          shuffle=True,\n",
    "                          num_workers=2,\n",
    "                          drop_last=True)"
   ]
  },
  {
   "cell_type": "code",
   "execution_count": null,
   "metadata": {},
   "outputs": [],
   "source": [
    "class MyClassifier(nn.Module):\n",
    "    def __init__(self):\n",
    "        super(MyClassifier, self).__init__()\n",
    "        self.layer1 = nn.Sequential(\n",
    "            nn.Conv2d(3, 4, kernel_size=3, stride=2),\n",
    "            nn.BatchNorm2d(4),\n",
    "            nn.ReLU(),\n",
    "            nn.MaxPool2d(kernel_size=3, stride=2)\n",
    "        )\n",
    "        print(self.layer1)\n",
    "        self.layer2 = nn.Sequential(\n",
    "            nn.Conv2d(4, 4, kernel_size=3, stride=2),\n",
    "            nn.BatchNorm2d(4),\n",
    "            nn.ReLU(),\n",
    "            nn.MaxPool2d(kernel_size=3, stride=2)\n",
    "        )\n",
    "        print(self.layer2)\n",
    "        self.linear1 = nn.Sequential(\n",
    "            nn.Linear(900, 27, bias=True),\n",
    "            nn.ReLU()\n",
    "        )\n",
    "        print(self.linear1)\n",
    "    \n",
    "    def forward(self, x):\n",
    "        out = self.layer1(x)\n",
    "        out = self.layer2(out)\n",
    "        out = out.view(out.shape[0], -1)\n",
    "        out = self.linear1(out)\n",
    "        return out"
   ]
  },
  {
   "cell_type": "code",
   "execution_count": null,
   "metadata": {},
   "outputs": [],
   "source": [
    "classifier = MyClassifier()\n",
    "learning_rate = 0.0001\n",
    "loss = nn.CrossEntropyLoss()\n",
    "optimizer = torch.optim.Adam(classifier.parameters(), lr=learning_rate)"
   ]
  },
  {
   "cell_type": "code",
   "execution_count": null,
   "metadata": {},
   "outputs": [],
   "source": [
    "num_epochs = 100\n",
    "# Train the Model\n",
    "for epoch in range(num_epochs):\n",
    "    for i, (images, labels) in enumerate(DataLoaderIter(flickrLoader)):\n",
    "        images = Variable(images)\n",
    "        labels = Variable(labels)\n",
    "        \n",
    "        # Forward + Backward + Optimize\n",
    "        optimizer.zero_grad()\n",
    "        outputs = classifier(images)\n",
    "        l = loss(outputs, labels)\n",
    "        l.backward()\n",
    "        optimizer.step()\n",
    "        \n",
    "        if (i+1) % 100 == 0:\n",
    "            print ('Epoch [%d/%d], Iter [%d/%d] Loss: %.4f' \n",
    "                   %(epoch+1, num_epochs, i+1, len(flickrData)//batch_size, l.data[0]))\n"
   ]
  }
 ],
 "metadata": {
  "kernelspec": {
   "display_name": "Python 3",
   "language": "python",
   "name": "python3"
  },
  "language_info": {
   "codemirror_mode": {
    "name": "ipython",
    "version": 3
   },
   "file_extension": ".py",
   "mimetype": "text/x-python",
   "name": "python",
   "nbconvert_exporter": "python",
   "pygments_lexer": "ipython3",
   "version": "3.6.3"
  }
 },
 "nbformat": 4,
 "nbformat_minor": 2
}
